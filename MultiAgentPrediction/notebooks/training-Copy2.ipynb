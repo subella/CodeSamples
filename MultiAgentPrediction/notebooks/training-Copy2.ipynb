{
 "cells": [
  {
   "cell_type": "code",
   "execution_count": 39,
   "metadata": {},
   "outputs": [],
   "source": [
    "import torch\n",
    "import torch_geometric\n",
    "device = torch.device(\"cuda:0\" if torch.cuda.is_available() else \"cpu\")\n",
    "from tqdm.notebook import tqdm\n",
    "import numpy as np\n",
    "local = False"
   ]
  },
  {
   "cell_type": "code",
   "execution_count": 40,
   "metadata": {},
   "outputs": [],
   "source": [
    "import json\n",
    "PATH = \"/Users/dagm/desktop/cog-rob-multi-agent-prediction-project/data/\"\n",
    "data_train = {}\n",
    "with open(PATH + \"data_siren_training.json\") as json_file:\n",
    "    data_train = json.load(json_file)\n",
    "\n",
    "data_test = {}\n",
    "with open(PATH + \"data_siren_test.json\") as json_file:\n",
    "    data_test = json.load(json_file)"
   ]
  },
  {
   "cell_type": "code",
   "execution_count": 41,
   "metadata": {},
   "outputs": [
    {
     "name": "stdout",
     "output_type": "stream",
     "text": [
      "60772 14410 14410\n",
      "0.23711577700256697\n"
     ]
    }
   ],
   "source": [
    "x = 0\n",
    "y = 0\n",
    "z = 0\n",
    "\n",
    "for dataset in data_train[\"data\"]:\n",
    "    for time in dataset:\n",
    "        edge_1 = time[\"labels\"][0][1]\n",
    "        edge_2 = time[\"labels\"][1][0]\n",
    "        \n",
    "        if edge_1 == \"IGNORING\":\n",
    "            x+=1\n",
    "        elif edge_1 == \"YIELDING\":\n",
    "            y+=1\n",
    "        else:\n",
    "            z+=1\n",
    "            \n",
    "        if edge_2 == \"IGNORING\":\n",
    "            x+=1\n",
    "        elif edge_2 == \"YIELDING\":\n",
    "            y+=1\n",
    "        else:\n",
    "            z+=1\n",
    "        \n",
    "print(x,y,z)\n",
    "\n",
    "x = y/x\n",
    "print(x)"
   ]
  },
  {
   "cell_type": "code",
   "execution_count": 42,
   "metadata": {},
   "outputs": [],
   "source": [
    "import math\n",
    "from itertools import combinations\n",
    "from itertools import permutations\n",
    "from torch_geometric.data import Data\n",
    "\n",
    "def encode_label(label):\n",
    "  temp = [\"IGNORING\", \"GOING\", \"YIELDING\"]\n",
    "  encode = [0] * 3\n",
    "  encode[temp.index(label)] = 1\n",
    "  return encode\n",
    "\n",
    "def generate_node_feature_tensor(data_window):\n",
    "    \"\"\"\n",
    "    Transform the simulated data into a node tensor encoding five previous \n",
    "    timesteps and features are x, y, v_x, and v_y for every given node in out\n",
    "    system\n",
    "\n",
    "    Input: \n",
    "      generated_data - a list of state dictionaries  for every vehicle in the\n",
    "                       the graph\n",
    "    Output: A PyTorch tensor with dimensioanlity (#Node, 5, 4)\n",
    "    \"\"\"\n",
    "\n",
    "    time_window = len(data_window)\n",
    "    agent_count = len(data_window[0][\"agents\"])\n",
    "    node_feature_tensor = torch.zeros((agent_count, time_window, 4))\n",
    "    node_type_tensor = torch.zeros((agent_count,1))\n",
    "    for node_idx in range(agent_count):\n",
    "      node_type_tensor[node_idx,0] = data_window[0][\"agents\"][node_idx][\"type\"]\n",
    "      for time in range(time_window):\n",
    "        node_feature_tensor[node_idx][time][0] = data_window[time][\"agents\"][node_idx][\"state\"][0]\n",
    "        node_feature_tensor[node_idx][time][1] = data_window[time][\"agents\"][node_idx][\"state\"][1]\n",
    "        node_feature_tensor[node_idx][time][2] = data_window[time][\"agents\"][node_idx][\"state\"][2]\n",
    "        node_feature_tensor[node_idx][time][3] = data_window[time][\"agents\"][node_idx][\"state\"][3]\n",
    "    \n",
    "    return node_feature_tensor, node_type_tensor\n",
    "\n",
    "def generate_edge_feature_tensor(data,label_data):\n",
    "    \"\"\"\n",
    "    Transform the simulated data into a node tensor encoding five previous \n",
    "    timesteps and features are x, y, v_x, and v_y for every given node in out\n",
    "    system\n",
    "\n",
    "    Input: \n",
    "      generated_data - a list of state dictionaries  for every vehicle in the\n",
    "                       the graph\n",
    "    Output: A PyTorch tensor with dimensioanlity (#Node, 5, 4)\n",
    "    \"\"\"\n",
    "\n",
    "    agent_count = len(data)\n",
    "    edge_feature_tensor = torch.zeros((math.factorial(agent_count),4))\n",
    "    edge_list = torch.zeros((math.factorial(agent_count),2))\n",
    "    labels = []\n",
    "    \n",
    "    combination_agents = permutations(data,2)\n",
    "    for i, agent_pair in enumerate(combination_agents):\n",
    "      from_node, to_node = agent_pair\n",
    "      from_node_id, to_node_id = from_node[\"agent_id\"], to_node[\"agent_id\"]\n",
    "      edge_list[i][0] = from_node_id\n",
    "      edge_list[i][1] = to_node_id\n",
    "      labels.append(encode_label(label_data[from_node_id][to_node_id]))\n",
    "\n",
    "      edge_feature_tensor[i][0] = from_node[\"state\"][0] - to_node[\"state\"][0]\n",
    "      edge_feature_tensor[i][1] = from_node[\"state\"][1] - to_node[\"state\"][1]\n",
    "      edge_feature_tensor[i][2] = from_node[\"state\"][2] - to_node[\"state\"][2]\n",
    "      edge_feature_tensor[i][3] = from_node[\"state\"][3] - to_node[\"state\"][3]\n",
    "    \n",
    "    labels = torch.tensor(labels)\n",
    "    return edge_feature_tensor, edge_list, labels\n",
    "\n",
    "\n",
    "def sequence_node_data(data):\n",
    "    node_data = []\n",
    "    type_data = []\n",
    "    for t in range(200,len(data)):\n",
    "      data_window = [data[t-200], data[t-150], data[t-100], data[t-50], data[t]]\n",
    "      feature_tensor, type_tensor = generate_node_feature_tensor(data_window)\n",
    "      node_data.append(feature_tensor)\n",
    "      type_data.append(type_tensor)\n",
    "    return node_data, type_data\n",
    "\n",
    "def sequence_edge_data(data):\n",
    "    edge_data = []\n",
    "    edge_list_data = []\n",
    "    labels = []\n",
    "    for time in data:\n",
    "      tensor,edge_list,label = generate_edge_feature_tensor(time[\"agents\"],time[\"labels\"])\n",
    "      edge_data.append(tensor)\n",
    "      edge_list_data.append(edge_list)\n",
    "      labels.append(label)\n",
    "    # print(len(labels), labels[0].shape)\n",
    "    return edge_data,edge_list_data,labels\n",
    "\n",
    "def create_joined_data_array(all_data):\n",
    "    joined_data = []\n",
    "    TYPE_TENSOR = None\n",
    "    for data in all_data[\"data\"]:\n",
    "        edge_features_data_list,edges,edge_labels = sequence_edge_data(data)\n",
    "        edge_labels = edge_labels[200:]\n",
    "        edge_features_data_list = edge_features_data_list[200:]\n",
    "        node_features_data_list, type_tensor = sequence_node_data(data)\n",
    "        for i in range(len(edge_features_data_list)):\n",
    "            data_point = Data(x=node_features_data_list[i], edge_index=edges[0], edge_attr=edge_features_data_list[i],pos=type_tensor[i],y=edge_labels[i])\n",
    "            joined_data.append(data_point)\n",
    "    return joined_data"
   ]
  },
  {
   "cell_type": "code",
   "execution_count": 43,
   "metadata": {},
   "outputs": [],
   "source": [
    "train_data = create_joined_data_array(data_train)\n",
    "test_data = create_joined_data_array(data_test)"
   ]
  },
  {
   "cell_type": "code",
   "execution_count": 44,
   "metadata": {},
   "outputs": [
    {
     "name": "stderr",
     "output_type": "stream",
     "text": [
      "/Users/dagm/.local/share/virtualenvs/cog-rob-multi-agent-prediction-project-g7NkvVIu/lib/python3.9/site-packages/torch_geometric/deprecation.py:12: UserWarning: 'data.DataLoader' is deprecated, use 'loader.DataLoader' instead\n",
      "  warnings.warn(out)\n"
     ]
    }
   ],
   "source": [
    "from torch_geometric.data import DataLoader\n",
    "loader = DataLoader(train_data)"
   ]
  },
  {
   "cell_type": "code",
   "execution_count": 76,
   "metadata": {},
   "outputs": [],
   "source": [
    "import torch.nn as nn\n",
    "import torch.nn.functional as F\n",
    "import torch_geometric.transforms as T\n",
    "from torch_geometric.nn import EdgeConv, global_mean_pool\n",
    "from torch.nn import Sequential as Seq, Linear as Lin, ReLU, BatchNorm1d\n",
    "from torch_scatter import scatter_mean\n",
    "from torch_geometric.nn import MetaLayer\n",
    "\n",
    "inputs = 128\n",
    "hidden = 128\n",
    "outputs = 3\n",
    "\n",
    "class EncoderRNN(nn.Module):\n",
    "    def __init__(self, input_size, hidden_size):\n",
    "        super(EncoderRNN, self).__init__()\n",
    "        self.hidden_size = hidden_size\n",
    "        self.embedding = nn.Embedding(input_size, hidden_size)\n",
    "        self.gru = nn.GRU(hidden_size, hidden_size)\n",
    "\n",
    "    def forward(self, input, hidden):\n",
    "        embedded = self.embedding(input).view(1, 1, -1)\n",
    "        output = embedded\n",
    "        output, hidden = self.gru(output, hidden)\n",
    "        return output, hidden\n",
    "\n",
    "    def initHidden(self):\n",
    "        return torch.zeros(1, 1, self.hidden_size, device=device)\n",
    "    \n",
    "class PastStateEncoder(nn.Module):\n",
    "    def __init__(self, output_size, timesteps, features):\n",
    "      super().__init__()\n",
    "      self.output_size = output_size\n",
    "      self.embedding = nn.Embedding(timesteps, features)\n",
    "      self.conv = nn.Conv1d(features*2,output_size,3,1,1)\n",
    "\n",
    "    def forward(self, x):\n",
    "      B, L, H = x.shape\n",
    "      pos = torch.arange(L).to(device)\n",
    "      x = torch.cat([x, self.embedding(pos).view(1, L, 4).expand(B, L, 4)], dim=-1)\n",
    "      x = x.transpose(2,1)\n",
    "      return self.conv(x).mean(dim=-1)\n",
    "\n",
    "class FusionLayer(nn.Module):\n",
    "    def __init__(self):\n",
    "        super().__init__()\n",
    "        self.fuse = nn.Linear(129 , 128)\n",
    "\n",
    "    def forward(self, x):\n",
    "      return self.fuse(x)\n",
    "\n",
    "class EdgeModel(torch.nn.Module):\n",
    "    def __init__(self,num_features_in,edge_features_in, hidden):\n",
    "        super().__init__()\n",
    "        self.edge_mlp = nn.Sequential(nn.Linear(2 * num_features_in + edge_features_in , hidden),\n",
    "                       nn.ReLU(),\n",
    "                       nn.Linear(hidden, 128))\n",
    "\n",
    "    def forward(self, src, dest, edge_attr, u, batch):\n",
    "        # src, dest: [E, F_x], where E is the number of edges.\n",
    "        # edge_attr: [E, F_e]\n",
    "        # u: [B, F_u], where B is the number of graphs.\n",
    "        # batch: [E] with max entry B - 1.\n",
    "        # print(src.shape, \"THIS IS SRC\")\n",
    "        # print(dest.shape, \"THIS IS dest\")\n",
    "        # print(edge_attr.shape, \"THIS IS edge_attr\")\n",
    "        out = torch.cat([src, dest, edge_attr], 1)\n",
    "        out = self.edge_mlp(out)\n",
    "        return out\n",
    "\n",
    "class NodeModel(torch.nn.Module):\n",
    "    def __init__(self,num_features_in, edge_features_in, hidden):\n",
    "        super().__init__()\n",
    "        self.node_mlp_1 = nn.Sequential(nn.Linear(2*num_features_in, hidden),        \n",
    "                       nn.ReLU(),\n",
    "                       nn.Linear(hidden, 128))\n",
    "\n",
    "    def forward(self, x, edge_index, edge_attr, u, batch):\n",
    "        # x: [N, F_x], where N is the number of nodes.\n",
    "        # edge_index: [2, E] with max entry N - 1.\n",
    "        # edge_attr: [E, F_e]\n",
    "        # u: [B, F_u]\n",
    "        # batch: [N] with max entry B - 1.\n",
    "        row, col = edge_index\n",
    "        out = torch.cat([x[row], edge_attr], dim=1)\n",
    "        return self.node_mlp_1(out) \n",
    "    \n",
    "\n",
    "def make_meta(num_features_in,edge_features_in,hidden):\n",
    "  return MetaLayer(edge_model=EdgeModel(num_features_in,edge_features_in,hidden), \n",
    "                   node_model=NodeModel(num_features_in,edge_features_in, hidden))\n",
    "\n",
    "class GraphNeuralNetwork(torch.nn.Module):\n",
    "    def __init__(self):\n",
    "        super(GraphNeuralNetwork, self).__init__()\n",
    "        self.final_mlp = Seq(Lin(hidden, hidden), \n",
    "                            BatchNorm1d(hidden),\n",
    "                            ReLU(),\n",
    "                            Lin(hidden, outputs))\n",
    "        self.gru = EncoderRNN(4,128)\n",
    "        self.rnn = PastStateEncoder(128, 5, 4)\n",
    "        self.fuse = FusionLayer()\n",
    "        self.gnn1 = make_meta(128,4,128)\n",
    "        self.gnn2 = make_meta(128,128,128)\n",
    "        \n",
    "    def forward(self, x, edge_index, edge_attr, batch, node_type):\n",
    "#         x = self.gru(x,128)\n",
    "        x = self.rnn(x)\n",
    "        x = torch.cat([x,node_type], dim=-1)\n",
    "        x = self.fuse(x)\n",
    "        x, edge_attr, u = self.gnn1(x, edge_index, edge_attr, None, batch)\n",
    "        x, edge_attr, u = self.gnn2(x, edge_index, edge_attr, None, batch)\n",
    "        out = self.final_mlp(edge_attr)\n",
    "        return out\n",
    "    \n",
    "model = GraphNeuralNetwork().to(device)\n",
    "optimizer = torch.optim.Adam(model.parameters(), lr = 1e-2)"
   ]
  },
  {
   "cell_type": "markdown",
   "metadata": {},
   "source": [
    "## Define training loop"
   ]
  },
  {
   "cell_type": "code",
   "execution_count": 77,
   "metadata": {},
   "outputs": [],
   "source": [
    "LOSS_WEIGHTS = torch.tensor([0.2371, 1.0, 1.0])\n",
    "\n",
    "@torch.no_grad()\n",
    "def test(model, loader, total, batch_size, leave=False):\n",
    "    model.eval()\n",
    "    \n",
    "    xentropy = nn.CrossEntropyLoss(reduction='mean')\n",
    "\n",
    "    sum_loss = 0.\n",
    "    t = tqdm(enumerate(loader), total=total/batch_size, leave=leave)\n",
    "    for i, data in t:\n",
    "        data = data.to(device)\n",
    "        y = torch.argmax(data.y, dim=1)\n",
    "        batch_output = model(data.x, data.edge_index.type(torch.LongTensor).to(device), data.edge_attr, data.batch, data.pos)\n",
    "        batch_loss_item = xentropy(batch_output, y).item()\n",
    "        sum_loss += batch_loss_item\n",
    "        t.set_description(\"loss = %.5f\" % (batch_loss_item))\n",
    "        t.refresh() # to show immediately the update\n",
    "\n",
    "    return sum_loss/(i+1)\n",
    "\n",
    "def train(model, optimizer, loader, total, batch_size, leave=False):\n",
    "    model.train()\n",
    "    \n",
    "    xentropy = nn.CrossEntropyLoss(reduction='mean')\n",
    "\n",
    "    sum_loss = 0.\n",
    "    t = tqdm(enumerate(loader), total=total/batch_size, leave=leave)\n",
    "    for i, data in t:\n",
    "        data = data.to(device)\n",
    "        y = torch.argmax(data.y, dim=1)\n",
    "        optimizer.zero_grad()\n",
    "        batch_output = model(data.x, data.edge_index.type(torch.LongTensor).to(device), data.edge_attr, data.batch, data.pos)\n",
    "        batch_loss = xentropy(batch_output, y)\n",
    "        batch_loss.backward()\n",
    "        batch_loss_item = batch_loss.item()\n",
    "        t.set_description(\"loss = %.5f\" % batch_loss_item)\n",
    "        t.refresh() # to show immediately the update\n",
    "        sum_loss += batch_loss_item\n",
    "        optimizer.step()\n",
    "    \n",
    "    return sum_loss/(i+1)"
   ]
  },
  {
   "cell_type": "markdown",
   "metadata": {},
   "source": [
    "## Define training, validation, testing data generators"
   ]
  },
  {
   "cell_type": "code",
   "execution_count": 78,
   "metadata": {},
   "outputs": [],
   "source": [
    "from torch_geometric.data import Data, DataListLoader, Batch\n",
    "from torch.utils.data import random_split\n",
    "\n",
    "def collate(items):\n",
    "    l = sum(items, [])\n",
    "    return Batch.from_data_list(l)\n",
    "\n",
    "torch.manual_seed(0)\n",
    "valid_frac = 0.20\n",
    "full_length = len(train_data)\n",
    "valid_num = int(valid_frac*full_length)\n",
    "batch_size = 64\n",
    "\n",
    "train_dataset, valid_dataset = random_split(train_data, [full_length-valid_num,valid_num])\n",
    "\n",
    "train_loader = DataLoader(train_dataset, batch_size=batch_size, pin_memory=True, shuffle=True)\n",
    "valid_loader = DataLoader(valid_dataset, batch_size=batch_size, pin_memory=True, shuffle=False)\n",
    "test_loader = DataLoader(test_data, batch_size=batch_size, pin_memory=True, shuffle=False)\n",
    "\n",
    "\n",
    "train_samples = len(train_dataset)\n",
    "valid_samples = len(valid_dataset)\n",
    "test_samples = len(test_data)"
   ]
  },
  {
   "cell_type": "markdown",
   "metadata": {},
   "source": [
    "## Train"
   ]
  },
  {
   "cell_type": "code",
   "execution_count": 86,
   "metadata": {},
   "outputs": [
    {
     "data": {
      "application/vnd.jupyter.widget-view+json": {
       "model_id": "dbf17b1b077d4ccebb96bbdea254c77f",
       "version_major": 2,
       "version_minor": 0
      },
      "text/plain": [
       "  0%|          | 0/30 [00:00<?, ?it/s]"
      ]
     },
     "metadata": {},
     "output_type": "display_data"
    },
    {
     "data": {
      "application/vnd.jupyter.widget-view+json": {
       "model_id": "",
       "version_major": 2,
       "version_minor": 0
      },
      "text/plain": [
       "  0%|          | 0/1069.90625 [00:00<?, ?it/s]"
      ]
     },
     "metadata": {},
     "output_type": "display_data"
    },
    {
     "data": {
      "application/vnd.jupyter.widget-view+json": {
       "model_id": "",
       "version_major": 2,
       "version_minor": 0
      },
      "text/plain": [
       "  0%|          | 0/267.46875 [00:00<?, ?it/s]"
      ]
     },
     "metadata": {},
     "output_type": "display_data"
    },
    {
     "name": "stdout",
     "output_type": "stream",
     "text": [
      "Epoch: 00, Training Loss:   0.0979\n",
      "           Validation Loss: 0.0958\n",
      "New best model saved to: interactionnetwork_best.pth\n"
     ]
    },
    {
     "data": {
      "application/vnd.jupyter.widget-view+json": {
       "model_id": "",
       "version_major": 2,
       "version_minor": 0
      },
      "text/plain": [
       "  0%|          | 0/1069.90625 [00:00<?, ?it/s]"
      ]
     },
     "metadata": {},
     "output_type": "display_data"
    },
    {
     "data": {
      "application/vnd.jupyter.widget-view+json": {
       "model_id": "",
       "version_major": 2,
       "version_minor": 0
      },
      "text/plain": [
       "  0%|          | 0/267.46875 [00:00<?, ?it/s]"
      ]
     },
     "metadata": {},
     "output_type": "display_data"
    },
    {
     "name": "stdout",
     "output_type": "stream",
     "text": [
      "Epoch: 01, Training Loss:   0.0902\n",
      "           Validation Loss: 0.0896\n",
      "New best model saved to: interactionnetwork_best.pth\n"
     ]
    },
    {
     "data": {
      "application/vnd.jupyter.widget-view+json": {
       "model_id": "",
       "version_major": 2,
       "version_minor": 0
      },
      "text/plain": [
       "  0%|          | 0/1069.90625 [00:00<?, ?it/s]"
      ]
     },
     "metadata": {},
     "output_type": "display_data"
    },
    {
     "data": {
      "application/vnd.jupyter.widget-view+json": {
       "model_id": "",
       "version_major": 2,
       "version_minor": 0
      },
      "text/plain": [
       "  0%|          | 0/267.46875 [00:00<?, ?it/s]"
      ]
     },
     "metadata": {},
     "output_type": "display_data"
    },
    {
     "name": "stdout",
     "output_type": "stream",
     "text": [
      "Epoch: 02, Training Loss:   0.0921\n",
      "           Validation Loss: 0.0774\n",
      "New best model saved to: interactionnetwork_best.pth\n"
     ]
    },
    {
     "data": {
      "application/vnd.jupyter.widget-view+json": {
       "model_id": "",
       "version_major": 2,
       "version_minor": 0
      },
      "text/plain": [
       "  0%|          | 0/1069.90625 [00:00<?, ?it/s]"
      ]
     },
     "metadata": {},
     "output_type": "display_data"
    },
    {
     "data": {
      "application/vnd.jupyter.widget-view+json": {
       "model_id": "",
       "version_major": 2,
       "version_minor": 0
      },
      "text/plain": [
       "  0%|          | 0/267.46875 [00:00<?, ?it/s]"
      ]
     },
     "metadata": {},
     "output_type": "display_data"
    },
    {
     "name": "stdout",
     "output_type": "stream",
     "text": [
      "Epoch: 03, Training Loss:   0.0899\n",
      "           Validation Loss: 0.0721\n",
      "New best model saved to: interactionnetwork_best.pth\n"
     ]
    },
    {
     "data": {
      "application/vnd.jupyter.widget-view+json": {
       "model_id": "",
       "version_major": 2,
       "version_minor": 0
      },
      "text/plain": [
       "  0%|          | 0/1069.90625 [00:00<?, ?it/s]"
      ]
     },
     "metadata": {},
     "output_type": "display_data"
    },
    {
     "data": {
      "application/vnd.jupyter.widget-view+json": {
       "model_id": "",
       "version_major": 2,
       "version_minor": 0
      },
      "text/plain": [
       "  0%|          | 0/267.46875 [00:00<?, ?it/s]"
      ]
     },
     "metadata": {},
     "output_type": "display_data"
    },
    {
     "name": "stdout",
     "output_type": "stream",
     "text": [
      "Epoch: 04, Training Loss:   0.0903\n",
      "           Validation Loss: 0.0825\n",
      "Stale epoch\n"
     ]
    },
    {
     "data": {
      "application/vnd.jupyter.widget-view+json": {
       "model_id": "",
       "version_major": 2,
       "version_minor": 0
      },
      "text/plain": [
       "  0%|          | 0/1069.90625 [00:00<?, ?it/s]"
      ]
     },
     "metadata": {},
     "output_type": "display_data"
    },
    {
     "data": {
      "application/vnd.jupyter.widget-view+json": {
       "model_id": "",
       "version_major": 2,
       "version_minor": 0
      },
      "text/plain": [
       "  0%|          | 0/267.46875 [00:00<?, ?it/s]"
      ]
     },
     "metadata": {},
     "output_type": "display_data"
    },
    {
     "name": "stdout",
     "output_type": "stream",
     "text": [
      "Epoch: 05, Training Loss:   0.0910\n",
      "           Validation Loss: 0.0689\n",
      "New best model saved to: interactionnetwork_best.pth\n"
     ]
    },
    {
     "data": {
      "application/vnd.jupyter.widget-view+json": {
       "model_id": "",
       "version_major": 2,
       "version_minor": 0
      },
      "text/plain": [
       "  0%|          | 0/1069.90625 [00:00<?, ?it/s]"
      ]
     },
     "metadata": {},
     "output_type": "display_data"
    },
    {
     "data": {
      "application/vnd.jupyter.widget-view+json": {
       "model_id": "",
       "version_major": 2,
       "version_minor": 0
      },
      "text/plain": [
       "  0%|          | 0/267.46875 [00:00<?, ?it/s]"
      ]
     },
     "metadata": {},
     "output_type": "display_data"
    },
    {
     "name": "stdout",
     "output_type": "stream",
     "text": [
      "Epoch: 06, Training Loss:   0.0901\n",
      "           Validation Loss: 0.0905\n",
      "Stale epoch\n"
     ]
    },
    {
     "data": {
      "application/vnd.jupyter.widget-view+json": {
       "model_id": "",
       "version_major": 2,
       "version_minor": 0
      },
      "text/plain": [
       "  0%|          | 0/1069.90625 [00:00<?, ?it/s]"
      ]
     },
     "metadata": {},
     "output_type": "display_data"
    },
    {
     "data": {
      "application/vnd.jupyter.widget-view+json": {
       "model_id": "",
       "version_major": 2,
       "version_minor": 0
      },
      "text/plain": [
       "  0%|          | 0/267.46875 [00:00<?, ?it/s]"
      ]
     },
     "metadata": {},
     "output_type": "display_data"
    },
    {
     "name": "stdout",
     "output_type": "stream",
     "text": [
      "Epoch: 07, Training Loss:   0.0903\n",
      "           Validation Loss: 0.0926\n",
      "Stale epoch\n"
     ]
    },
    {
     "data": {
      "application/vnd.jupyter.widget-view+json": {
       "model_id": "",
       "version_major": 2,
       "version_minor": 0
      },
      "text/plain": [
       "  0%|          | 0/1069.90625 [00:00<?, ?it/s]"
      ]
     },
     "metadata": {},
     "output_type": "display_data"
    },
    {
     "data": {
      "application/vnd.jupyter.widget-view+json": {
       "model_id": "",
       "version_major": 2,
       "version_minor": 0
      },
      "text/plain": [
       "  0%|          | 0/267.46875 [00:00<?, ?it/s]"
      ]
     },
     "metadata": {},
     "output_type": "display_data"
    },
    {
     "name": "stdout",
     "output_type": "stream",
     "text": [
      "Epoch: 08, Training Loss:   0.0874\n",
      "           Validation Loss: 0.0723\n",
      "Stale epoch\n"
     ]
    },
    {
     "data": {
      "application/vnd.jupyter.widget-view+json": {
       "model_id": "",
       "version_major": 2,
       "version_minor": 0
      },
      "text/plain": [
       "  0%|          | 0/1069.90625 [00:00<?, ?it/s]"
      ]
     },
     "metadata": {},
     "output_type": "display_data"
    },
    {
     "data": {
      "application/vnd.jupyter.widget-view+json": {
       "model_id": "",
       "version_major": 2,
       "version_minor": 0
      },
      "text/plain": [
       "  0%|          | 0/267.46875 [00:00<?, ?it/s]"
      ]
     },
     "metadata": {},
     "output_type": "display_data"
    },
    {
     "name": "stdout",
     "output_type": "stream",
     "text": [
      "Epoch: 09, Training Loss:   0.0863\n",
      "           Validation Loss: 0.0768\n",
      "Stale epoch\n"
     ]
    },
    {
     "data": {
      "application/vnd.jupyter.widget-view+json": {
       "model_id": "",
       "version_major": 2,
       "version_minor": 0
      },
      "text/plain": [
       "  0%|          | 0/1069.90625 [00:00<?, ?it/s]"
      ]
     },
     "metadata": {},
     "output_type": "display_data"
    },
    {
     "data": {
      "application/vnd.jupyter.widget-view+json": {
       "model_id": "",
       "version_major": 2,
       "version_minor": 0
      },
      "text/plain": [
       "  0%|          | 0/267.46875 [00:00<?, ?it/s]"
      ]
     },
     "metadata": {},
     "output_type": "display_data"
    },
    {
     "name": "stdout",
     "output_type": "stream",
     "text": [
      "Epoch: 10, Training Loss:   0.0836\n",
      "           Validation Loss: 0.1112\n",
      "Stale epoch\n"
     ]
    },
    {
     "data": {
      "application/vnd.jupyter.widget-view+json": {
       "model_id": "",
       "version_major": 2,
       "version_minor": 0
      },
      "text/plain": [
       "  0%|          | 0/1069.90625 [00:00<?, ?it/s]"
      ]
     },
     "metadata": {},
     "output_type": "display_data"
    },
    {
     "data": {
      "application/vnd.jupyter.widget-view+json": {
       "model_id": "",
       "version_major": 2,
       "version_minor": 0
      },
      "text/plain": [
       "  0%|          | 0/267.46875 [00:00<?, ?it/s]"
      ]
     },
     "metadata": {},
     "output_type": "display_data"
    },
    {
     "name": "stdout",
     "output_type": "stream",
     "text": [
      "Epoch: 11, Training Loss:   0.0900\n",
      "           Validation Loss: 0.0733\n",
      "Stale epoch\n"
     ]
    },
    {
     "data": {
      "application/vnd.jupyter.widget-view+json": {
       "model_id": "",
       "version_major": 2,
       "version_minor": 0
      },
      "text/plain": [
       "  0%|          | 0/1069.90625 [00:00<?, ?it/s]"
      ]
     },
     "metadata": {},
     "output_type": "display_data"
    },
    {
     "data": {
      "application/vnd.jupyter.widget-view+json": {
       "model_id": "",
       "version_major": 2,
       "version_minor": 0
      },
      "text/plain": [
       "  0%|          | 0/267.46875 [00:00<?, ?it/s]"
      ]
     },
     "metadata": {},
     "output_type": "display_data"
    },
    {
     "name": "stdout",
     "output_type": "stream",
     "text": [
      "Epoch: 12, Training Loss:   0.0896\n",
      "           Validation Loss: 0.1030\n",
      "Stale epoch\n"
     ]
    },
    {
     "data": {
      "application/vnd.jupyter.widget-view+json": {
       "model_id": "",
       "version_major": 2,
       "version_minor": 0
      },
      "text/plain": [
       "  0%|          | 0/1069.90625 [00:00<?, ?it/s]"
      ]
     },
     "metadata": {},
     "output_type": "display_data"
    },
    {
     "data": {
      "application/vnd.jupyter.widget-view+json": {
       "model_id": "",
       "version_major": 2,
       "version_minor": 0
      },
      "text/plain": [
       "  0%|          | 0/267.46875 [00:00<?, ?it/s]"
      ]
     },
     "metadata": {},
     "output_type": "display_data"
    },
    {
     "name": "stdout",
     "output_type": "stream",
     "text": [
      "Epoch: 13, Training Loss:   0.0848\n",
      "           Validation Loss: 0.0697\n",
      "Stale epoch\n"
     ]
    },
    {
     "data": {
      "application/vnd.jupyter.widget-view+json": {
       "model_id": "",
       "version_major": 2,
       "version_minor": 0
      },
      "text/plain": [
       "  0%|          | 0/1069.90625 [00:00<?, ?it/s]"
      ]
     },
     "metadata": {},
     "output_type": "display_data"
    },
    {
     "data": {
      "application/vnd.jupyter.widget-view+json": {
       "model_id": "",
       "version_major": 2,
       "version_minor": 0
      },
      "text/plain": [
       "  0%|          | 0/267.46875 [00:00<?, ?it/s]"
      ]
     },
     "metadata": {},
     "output_type": "display_data"
    },
    {
     "name": "stdout",
     "output_type": "stream",
     "text": [
      "Epoch: 14, Training Loss:   0.0842\n",
      "           Validation Loss: 0.0712\n",
      "Stale epoch\n"
     ]
    },
    {
     "data": {
      "application/vnd.jupyter.widget-view+json": {
       "model_id": "",
       "version_major": 2,
       "version_minor": 0
      },
      "text/plain": [
       "  0%|          | 0/1069.90625 [00:00<?, ?it/s]"
      ]
     },
     "metadata": {},
     "output_type": "display_data"
    },
    {
     "data": {
      "application/vnd.jupyter.widget-view+json": {
       "model_id": "",
       "version_major": 2,
       "version_minor": 0
      },
      "text/plain": [
       "  0%|          | 0/267.46875 [00:00<?, ?it/s]"
      ]
     },
     "metadata": {},
     "output_type": "display_data"
    },
    {
     "name": "stdout",
     "output_type": "stream",
     "text": [
      "Epoch: 15, Training Loss:   0.0815\n",
      "           Validation Loss: 0.0810\n",
      "Stale epoch\n",
      "Early stopping after 10 stale epochs\n"
     ]
    }
   ],
   "source": [
    "import os.path as osp\n",
    "\n",
    "n_epochs = 30\n",
    "stale_epochs = 0\n",
    "best_valid_loss = 99999\n",
    "patience = 10\n",
    "t = tqdm(range(0, n_epochs))\n",
    "\n",
    "for epoch in t:\n",
    "    loss = train(model, optimizer, train_loader, train_samples, batch_size, leave=bool(epoch==n_epochs-1))\n",
    "    valid_loss = test(model, valid_loader, valid_samples, batch_size, leave=bool(epoch==n_epochs-1))\n",
    "    print('Epoch: {:02d}, Training Loss:   {:.4f}'.format(epoch, loss))\n",
    "    print('           Validation Loss: {:.4f}'.format(valid_loss))\n",
    "\n",
    "    if valid_loss < best_valid_loss:\n",
    "        best_valid_loss = valid_loss\n",
    "        modpath = osp.join('interactionnetwork_best.pth')\n",
    "        print('New best model saved to:',modpath)\n",
    "        torch.save(model.state_dict(),modpath)\n",
    "        stale_epochs = 0\n",
    "    else:\n",
    "        print('Stale epoch')\n",
    "        stale_epochs += 1\n",
    "    if stale_epochs >= patience:\n",
    "        print('Early stopping after %i stale epochs'%patience)\n",
    "        break"
   ]
  },
  {
   "cell_type": "markdown",
   "metadata": {},
   "source": [
    "## Evaluate on testing data"
   ]
  },
  {
   "cell_type": "code",
   "execution_count": 87,
   "metadata": {},
   "outputs": [
    {
     "data": {
      "application/vnd.jupyter.widget-view+json": {
       "model_id": "ba0fdb6c661844b1b9b3e455448cbdce",
       "version_major": 2,
       "version_minor": 0
      },
      "text/plain": [
       "  0%|          | 0/626.75 [00:00<?, ?it/s]"
      ]
     },
     "metadata": {},
     "output_type": "display_data"
    }
   ],
   "source": [
    "from sklearn.metrics import accuracy_score\n",
    "from sklearn.metrics import confusion_matrix,ConfusionMatrixDisplay\n",
    "\n",
    "model.eval()\n",
    "t = tqdm(enumerate(test_loader),total=test_samples/batch_size)\n",
    "y_test = []\n",
    "y_predict = []\n",
    "for i,data in t:\n",
    "    data = data.to(device)    \n",
    "    batch_output = model(data.x, data.edge_index.type(torch.LongTensor).to(device), data.edge_attr, data.batch, data.pos)\n",
    "    y_predict.append(batch_output.detach().cpu().numpy())\n",
    "    y_test.append(data.y.cpu().numpy())\n",
    "y_test = np.concatenate(y_test)\n",
    "y_predict = np.concatenate(y_predict)"
   ]
  },
  {
   "cell_type": "markdown",
   "metadata": {},
   "source": [
    "## Top 1 Accuracy"
   ]
  },
  {
   "cell_type": "code",
   "execution_count": 88,
   "metadata": {},
   "outputs": [
    {
     "name": "stdout",
     "output_type": "stream",
     "text": [
      "0.8380035899481452 ACCURACY\n"
     ]
    }
   ],
   "source": [
    "y_predict_bool = (y_predict > 0.5) \n",
    "y_test_bool = (y_test > 0.5)\n",
    "print(accuracy_score(y_predict_bool,y_test_bool), \"ACCURACY\")"
   ]
  },
  {
   "cell_type": "markdown",
   "metadata": {},
   "source": [
    "## Confusion Matrix"
   ]
  },
  {
   "cell_type": "code",
   "execution_count": 89,
   "metadata": {
    "scrolled": true
   },
   "outputs": [
    {
     "data": {
      "image/png": "[encoded data removed]",
      "text/plain": [
       "<Figure size 720x720 with 2 Axes>"
      ]
     },
     "metadata": {
      "needs_background": "light"
     },
     "output_type": "display_data"
    }
   ],
   "source": [
    "y_test_non_category = [ np.argmax(t) for t in y_test ]\n",
    "y_predict_non_category = [ np.argmax(t) for t in y_predict ]\n",
    "conf_mat = confusion_matrix(y_test_non_category, y_predict_non_category)\n",
    "disp = ConfusionMatrixDisplay(confusion_matrix=conf_mat, display_labels=[\"IGNORING\", \"YIELDING\", \"GOING\"])\n",
    "disp.plot()\n",
    "plt.show()"
   ]
  },
  {
   "cell_type": "markdown",
   "metadata": {},
   "source": [
    "## ROC-AUC Curve"
   ]
  },
  {
   "cell_type": "code",
   "execution_count": 90,
   "metadata": {},
   "outputs": [
    {
     "data": {
      "image/png": "[encoded data removed]",
      "text/plain": [
       "<Figure size 720x720 with 1 Axes>"
      ]
     },
     "metadata": {
      "needs_background": "light"
     },
     "output_type": "display_data"
    }
   ],
   "source": [
    "from sklearn.metrics import roc_curve, auc\n",
    "import matplotlib.pyplot as plt\n",
    "import mplhep as hep\n",
    "plt.style.use(hep.style.ROOT)\n",
    "# create ROC curves\n",
    "fpr_gnn, tpr_gnn, threshold_gnn = roc_curve(y_test[:,1], y_predict[:,1])\n",
    "    \n",
    "# plot ROC curves\n",
    "plt.figure()\n",
    "plt.plot(tpr_gnn, fpr_gnn, lw=2.5, label=\"GNN, AUC = {:.1f}%\".format(auc(fpr_gnn,tpr_gnn)*100))\n",
    "plt.xlabel(r'True positive rate')\n",
    "plt.ylabel(r'False positive rate')\n",
    "plt.semilogy()\n",
    "plt.ylim(0.001, 1)\n",
    "plt.xlim(0, 1)\n",
    "plt.grid(True)\n",
    "plt.legend(loc='upper left')\n",
    "plt.show()"
   ]
  },
  {
   "cell_type": "markdown",
   "metadata": {},
   "source": [
    "## Evaluation\n",
    "\n",
    "- Baseline: 128 hidden, 2-GNN Blocks, 32 Batch, 4 Previous\n",
    "    - Training Loss: 0.1208\n",
    "    - Validation Loss: 0.0906\n",
    "    - Accuracy: 0.7967191862784204\n",
    "- Increased Hidden Units: 256 hidden, 2-GNN Blocks\n",
    "    - Training Loss: 0.0741\n",
    "    - Validation Loss: 0.0627\n",
    "    - Accuracy: 0.6446699242122058"
   ]
  },
  {
   "cell_type": "code",
   "execution_count": null,
   "metadata": {},
   "outputs": [],
   "source": []
  }
 ],
 "metadata": {
  "kernelspec": {
   "display_name": "local-venv",
   "language": "python",
   "name": "local-venv"
  },
  "language_info": {
   "codemirror_mode": {
    "name": "ipython",
    "version": 3
   },
   "file_extension": ".py",
   "mimetype": "text/x-python",
   "name": "python",
   "nbconvert_exporter": "python",
   "pygments_lexer": "ipython3",
   "version": "3.9.9"
  }
 },
 "nbformat": 4,
 "nbformat_minor": 2
}
